{
 "cells": [
  {
   "cell_type": "markdown",
   "metadata": {},
   "source": [
    "# Solução de sistemas lineares através da eliminação de Gauss"
   ]
  },
  {
   "cell_type": "markdown",
   "metadata": {},
   "source": [
    "## License\n",
    "\n",
    "All content can be freely used and adapted under the terms of the \n",
    "[Creative Commons Attribution 4.0 International License](http://creativecommons.org/licenses/by/4.0/).\n",
    "\n",
    "![Creative Commons License](https://i.creativecommons.org/l/by/4.0/88x31.png)"
   ]
  },
  {
   "cell_type": "markdown",
   "metadata": {},
   "source": [
    "## Imports\n",
    "\n",
    "Coloque **todos** os `import` na célula abaixo. Não se esqueça do `%matplotlib inline` para que os gráficos apareçam no notebook."
   ]
  },
  {
   "cell_type": "code",
   "execution_count": 61,
   "metadata": {
    "collapsed": false
   },
   "outputs": [],
   "source": [
    "import numpy as np"
   ]
  },
  {
   "cell_type": "markdown",
   "metadata": {},
   "source": [
    "## Tarefa\n",
    "\n",
    "Reduza o sistema linear $\\bar{\\bar{A}}\\bar{x} = \\bar{b}$ para sua forma escalonada (row echelon form)."
   ]
  },
  {
   "cell_type": "code",
   "execution_count": 62,
   "metadata": {
    "collapsed": false
   },
   "outputs": [],
   "source": [
    "N = 11  # Número de linhas\n",
    "M = 11  # Número de colunas\n",
    "sistema = [[25, 108, 58, 102, 61, 24, 39, 40, 67, 11, 5],\n",
    "           [51, 28, 17, 98, 105, 43, 86, 2, 71, 20, 95],\n",
    "           [56, 70, 109, 45, 117, 52, 97, 92, 1, 42, 78],\n",
    "           [59, 6, 50, 37, 120, 118, 104, 64, 53, 100, 66],\n",
    "           [82, 74, 68, 80, 16, 115, 63, 103, 60, 30, 93],\n",
    "           [79, 113, 65, 72, 22, 35, 101, 10, 83, 89, 85],\n",
    "           [34, 57, 90, 9, 14, 47, 76, 44, 26, 48, 114],\n",
    "           [41, 7, 21, 75, 33, 49, 32, 119, 46, 0, 87],\n",
    "           [91, 77, 55, 18, 106, 54, 116, 12, 13, 31, 38],\n",
    "           [27, 81, 29, 107, 84, 15, 3, 112, 88, 69, 19],\n",
    "           [110, 96, 23, 73, 36, 8, 99, 4, 94, 111, 62]]\n",
    "lado_direito = [3323, 2869, 4085, 3211, 4181, 3831, 2699, 2891, 3188, 3586, 3598]"
   ]
  },
  {
   "cell_type": "code",
   "execution_count": 63,
   "metadata": {
    "collapsed": false
   },
   "outputs": [],
   "source": [
    "for k in range(0, N): # Pega os valores ate o numero de linhas\n",
    "    for i in range(k + 1, N): # Pega os valores a partir do segundo depois de cada linha trabalhada\n",
    "        fator = - sistema[i][k]/sistema[k][k] # Nomeia como fator, a constante que multiplicara cada linha \n",
    "        for j in range(0, N): # Pega os valores ate o numero de linhas\n",
    "            sistema[i][j] = sistema[i][j] + sistema[k][j]*fator # Faz as operacoes nas linhas zerando os elementos abaixo da diagonal\n",
    "        lado_direito[i] = lado_direito[i] + lado_direito[k]*fator # Ajusta lado_diretio de acordo com as mudancas feitas acima\n",
    "                                                                              # para gerar o resultado final"
   ]
  },
  {
   "cell_type": "markdown",
   "metadata": {},
   "source": [
    "### Resultado esperado\n",
    "\n",
    "Quando executada, a célula abaixo deverá imprimir exatamente:\n",
    "\n",
    "                                                   A                                                   |    b \n",
    "      25.000  108.000   58.000  102.000   61.000   24.000   39.000   40.000   67.000   11.000    5.000 | 3323.000\n",
    "       0.000 -192.320 -101.320 -110.080  -19.440   -5.960    6.440  -79.600  -65.680   -2.440   84.800 | -3909.920\n",
    "      -0.000    0.000   69.653  -85.077   -2.262    3.568    3.883   73.557  -90.367   19.541   -9.005 |  136.662\n",
    "       0.000    0.000    0.000   -7.233    2.634   66.807    1.160   25.893   37.269   64.787  -49.820 |  341.724\n",
    "       0.000    0.000    0.000    0.000 -177.918 -539.479  -85.844 -165.046 -356.419 -575.159  391.184 | -4053.756\n",
    "       0.000    0.000    0.000    0.000   -0.000 -539.656   43.030 -267.157 -271.025 -378.300  357.879 | -3235.329\n",
    "       0.000    0.000    0.000    0.000    0.000    0.000   55.468  -69.824   59.860   57.791   78.381 |  141.706\n",
    "       0.000    0.000    0.000    0.000    0.000    0.000    0.000   70.381   24.471   60.345  -29.950 |  741.794\n",
    "       0.000    0.000    0.000    0.000    0.000    0.000    0.000    0.000  -16.843 -126.224   62.584 |   57.797\n",
    "       0.000    0.000    0.000    0.000    0.000    0.000    0.000    0.000    0.000 -291.983  268.919 |  537.838\n",
    "      -0.000    0.000    0.000    0.000    0.000    0.000    0.000    0.000    0.000    0.000  -71.547 | -143.094\n"
   ]
  },
  {
   "cell_type": "code",
   "execution_count": 64,
   "metadata": {
    "collapsed": false
   },
   "outputs": [
    {
     "name": "stdout",
     "output_type": "stream",
     "text": [
      "                                               A                                                   |    b \n",
      "  25.000  108.000   58.000  102.000   61.000   24.000   39.000   40.000   67.000   11.000    5.000 | 3323.000\n",
      "   0.000 -192.320 -101.320 -110.080  -19.440   -5.960    6.440  -79.600  -65.680   -2.440   84.800 | -3909.920\n",
      "  -0.000    0.000   69.653  -85.077   -2.262    3.568    3.883   73.557  -90.367   19.541   -9.005 |  136.662\n",
      "   0.000    0.000    0.000   -7.233    2.634   66.807    1.160   25.893   37.269   64.787  -49.820 |  341.724\n",
      "  -0.000    0.000    0.000    0.000 -177.918 -539.479  -85.844 -165.046 -356.419 -575.159  391.184 | -4053.756\n",
      "  -0.000    0.000    0.000    0.000   -0.000 -539.656   43.030 -267.157 -271.025 -378.300  357.879 | -3235.329\n",
      "   0.000    0.000    0.000    0.000   -0.000    0.000   55.468  -69.824   59.860   57.791   78.381 |  141.706\n",
      "   0.000    0.000    0.000    0.000   -0.000    0.000    0.000   70.381   24.471   60.345  -29.950 |  741.794\n",
      "   0.000    0.000    0.000    0.000    0.000    0.000    0.000    0.000  -16.843 -126.224   62.584 |   57.797\n",
      "   0.000    0.000    0.000    0.000    0.000    0.000    0.000    0.000    0.000 -291.983  268.919 |  537.838\n",
      "  -0.000    0.000    0.000    0.000    0.000    0.000    0.000    0.000    0.000    0.000  -71.547 | -143.094\n"
     ]
    }
   ],
   "source": [
    "print('                                               A                                                   |    b ')\n",
    "for i in range(N):\n",
    "    for j in range(M):\n",
    "        print('{:8.3f} '.format(sistema[i][j]), end='')\n",
    "    print('| {:8.3f}'.format(lado_direito[i]))"
   ]
  },
  {
   "cell_type": "markdown",
   "metadata": {},
   "source": [
    "## Tarefa\n",
    "\n",
    "Utilize a matriz escalonada acima para encontrar a solução do sistema através da substituição retrocedida (back substitution). Coloque a solução em uma lista chamada `solucao`.\n",
    "\n",
    "**Dica**: \n",
    "\n",
    "* Para criar uma lista com um mesmo valor repetido N vezes: `[numero]*N`. Por exemplo, `[0]*4` resulta em `[0, 0, 0, 0]`."
   ]
  },
  {
   "cell_type": "code",
   "execution_count": 65,
   "metadata": {
    "collapsed": false
   },
   "outputs": [],
   "source": [
    "solucao = [0]*N # Cria uma lista contendo N zeros que depois sera preenchida com os valores finais\n",
    "solucao[N - 1] = lado_direito[N - 1] / sistema[N - 1][N - 1] # Estabelece a formula que relaciona lado_direito com o sistema,\n",
    "# ou seja, cada valor da solucao sera o resultado da divisao entre lado_direito e sistema\n",
    "for linha in range(N - 2, -1, -1): # Comeca a contagem de baixo para cima das linhas \n",
    "    soma = lado_direito[linha] # Pega os valores das linhas de lado_direito a guarda numa variavel chamada soma\n",
    "    for j in range(linha + 1, N): # Loop nos valores da segunda linha ate a ultima, de baixo pra cima\n",
    "        soma = soma - sistema[linha][j]*solucao[j] # Monta as equacoes de cada linha das matrizes \n",
    "    solucao[linha] = soma / sistema[linha][linha] # Aloca na lista solucao o resultado das variaveis encontradas nas eqs acima"
   ]
  },
  {
   "cell_type": "markdown",
   "metadata": {},
   "source": [
    "### Resultado esperado\n",
    "\n",
    "Quando executada, a célula abaixo deverá imprimir exatamente:\n",
    "\n",
    "    6.000000 9.000000 5.000000 7.000000 3.000000 1.000000 8.000000 10.000000 4.000000 0.000000 2.000000 "
   ]
  },
  {
   "cell_type": "code",
   "execution_count": 66,
   "metadata": {
    "collapsed": false
   },
   "outputs": [
    {
     "name": "stdout",
     "output_type": "stream",
     "text": [
      "6.000000 9.000000 5.000000 7.000000 3.000000 1.000000 8.000000 10.000000 4.000000 0.000000 2.000000 "
     ]
    }
   ],
   "source": [
    "for i in range(N):\n",
    "    print('{:8.6f} '.format(solucao[i]), end='')"
   ]
  },
  {
   "cell_type": "markdown",
   "metadata": {},
   "source": [
    "## Tarefa Bônus"
   ]
  },
  {
   "cell_type": "markdown",
   "metadata": {},
   "source": [
    "Sua tarefa será aplicar a eliminação de Gauss para resolver o sistema linear gerado abaixo."
   ]
  },
  {
   "cell_type": "code",
   "execution_count": 67,
   "metadata": {
    "collapsed": false
   },
   "outputs": [],
   "source": [
    "# Para tornar a vida mais interessante, vamos gerar um sistema linear aleatório\n",
    "N, M = 13, 13\n",
    "A = np.random.random_integers(10, 50, size=(N, M)).tolist()\n",
    "for i in range(N):\n",
    "    A[i][i] = 0\n",
    "b = np.dot(A, np.random.random_integers(1, 20, size=N)).tolist()"
   ]
  },
  {
   "cell_type": "code",
   "execution_count": 68,
   "metadata": {
    "collapsed": false
   },
   "outputs": [
    {
     "name": "stdout",
     "output_type": "stream",
     "text": [
      "                                                   A                                                    |    b \n",
      "    0.0    10.0    38.0    39.0    26.0    34.0    38.0    44.0    27.0    33.0    39.0    50.0    19.0 |  3576.0\n",
      "   43.0     0.0    25.0    33.0    41.0    27.0    10.0    27.0    22.0    32.0    21.0    10.0    19.0 |  3385.0\n",
      "   14.0    42.0     0.0    37.0    23.0    29.0    28.0    39.0    31.0    20.0    10.0    17.0    11.0 |  3458.0\n",
      "   36.0    13.0    13.0     0.0    48.0    33.0    48.0    12.0    35.0    42.0    21.0    28.0    42.0 |  3941.0\n",
      "   15.0    25.0    12.0    17.0     0.0    42.0    17.0    47.0    14.0    23.0    47.0    16.0    45.0 |  2892.0\n",
      "   50.0    36.0    34.0    50.0    49.0     0.0    50.0    20.0    15.0    15.0    20.0    18.0    35.0 |  4414.0\n",
      "   33.0    43.0    26.0    10.0    29.0    35.0     0.0    44.0    17.0    27.0    31.0    38.0    26.0 |  3780.0\n",
      "   10.0    35.0    29.0    37.0    18.0    27.0    45.0     0.0    42.0    38.0    15.0    50.0    34.0 |  4132.0\n",
      "   38.0    16.0    49.0    18.0    41.0    37.0    43.0    14.0     0.0    18.0    45.0    42.0    38.0 |  3804.0\n",
      "   36.0    18.0    21.0    31.0    11.0    33.0    16.0    20.0    35.0     0.0    22.0    14.0    31.0 |  3194.0\n",
      "   40.0    27.0    37.0    48.0    49.0    50.0    31.0    34.0    43.0    26.0     0.0    34.0    44.0 |  5300.0\n",
      "   50.0    13.0    22.0    46.0    24.0    43.0    29.0    40.0    41.0    32.0    41.0     0.0    28.0 |  4261.0\n",
      "   16.0    32.0    11.0    28.0    19.0    34.0    34.0    27.0    37.0    15.0    34.0    19.0     0.0 |  3155.0\n"
     ]
    }
   ],
   "source": [
    "print('                                                   A                                                    |    b ')\n",
    "for i in range(N):\n",
    "    for j in range(M):\n",
    "        print('{:7.1f} '.format(A[i][j]), end='')\n",
    "    print('| {:7.1f}'.format(b[i]))"
   ]
  },
  {
   "cell_type": "markdown",
   "metadata": {},
   "source": [
    "Porém, há um problema. Você não poderá fazer isso diretamente pois $A_{ii} == 0$ (a diagonal da matriz é zero). Logo, não há como dividir pelo elemento pivo e não há como aplicar a eliminação de Gauss nesse sistema. **Experimente aplicar a eliminação convencional que você implementou acima nesse sistema e veja o que acontece.**"
   ]
  },
  {
   "cell_type": "code",
   "execution_count": 69,
   "metadata": {
    "collapsed": false
   },
   "outputs": [
    {
     "ename": "ZeroDivisionError",
     "evalue": "division by zero",
     "output_type": "error",
     "traceback": [
      "\u001b[1;31m---------------------------------------------------------------------------\u001b[0m",
      "\u001b[1;31mZeroDivisionError\u001b[0m                         Traceback (most recent call last)",
      "\u001b[1;32m<ipython-input-69-88ee2c987d69>\u001b[0m in \u001b[0;36m<module>\u001b[1;34m()\u001b[0m\n\u001b[0;32m      2\u001b[0m \u001b[1;32mfor\u001b[0m \u001b[0mk\u001b[0m \u001b[1;32min\u001b[0m \u001b[0mrange\u001b[0m\u001b[1;33m(\u001b[0m\u001b[1;36m0\u001b[0m\u001b[1;33m,\u001b[0m \u001b[0mN\u001b[0m\u001b[1;33m)\u001b[0m\u001b[1;33m:\u001b[0m\u001b[1;33m\u001b[0m\u001b[0m\n\u001b[0;32m      3\u001b[0m     \u001b[1;32mfor\u001b[0m \u001b[0mi\u001b[0m \u001b[1;32min\u001b[0m \u001b[0mrange\u001b[0m\u001b[1;33m(\u001b[0m\u001b[0mk\u001b[0m \u001b[1;33m+\u001b[0m \u001b[1;36m1\u001b[0m\u001b[1;33m,\u001b[0m \u001b[0mN\u001b[0m\u001b[1;33m)\u001b[0m\u001b[1;33m:\u001b[0m\u001b[1;33m\u001b[0m\u001b[0m\n\u001b[1;32m----> 4\u001b[1;33m         \u001b[0mfator\u001b[0m \u001b[1;33m=\u001b[0m \u001b[1;33m-\u001b[0m \u001b[0mA\u001b[0m\u001b[1;33m[\u001b[0m\u001b[0mi\u001b[0m\u001b[1;33m]\u001b[0m\u001b[1;33m[\u001b[0m\u001b[0mk\u001b[0m\u001b[1;33m]\u001b[0m\u001b[1;33m/\u001b[0m\u001b[0mA\u001b[0m\u001b[1;33m[\u001b[0m\u001b[0mk\u001b[0m\u001b[1;33m]\u001b[0m\u001b[1;33m[\u001b[0m\u001b[0mk\u001b[0m\u001b[1;33m]\u001b[0m\u001b[1;33m\u001b[0m\u001b[0m\n\u001b[0m\u001b[0;32m      5\u001b[0m         \u001b[1;32mfor\u001b[0m \u001b[0mj\u001b[0m \u001b[1;32min\u001b[0m \u001b[0mrange\u001b[0m\u001b[1;33m(\u001b[0m\u001b[1;36m0\u001b[0m\u001b[1;33m,\u001b[0m \u001b[0mN\u001b[0m\u001b[1;33m)\u001b[0m\u001b[1;33m:\u001b[0m\u001b[1;33m\u001b[0m\u001b[0m\n\u001b[0;32m      6\u001b[0m             \u001b[0mA\u001b[0m\u001b[1;33m[\u001b[0m\u001b[0mi\u001b[0m\u001b[1;33m]\u001b[0m\u001b[1;33m[\u001b[0m\u001b[0mj\u001b[0m\u001b[1;33m]\u001b[0m \u001b[1;33m=\u001b[0m \u001b[0mA\u001b[0m\u001b[1;33m[\u001b[0m\u001b[0mi\u001b[0m\u001b[1;33m]\u001b[0m\u001b[1;33m[\u001b[0m\u001b[0mj\u001b[0m\u001b[1;33m]\u001b[0m \u001b[1;33m+\u001b[0m \u001b[0mA\u001b[0m\u001b[1;33m[\u001b[0m\u001b[0mk\u001b[0m\u001b[1;33m]\u001b[0m\u001b[1;33m[\u001b[0m\u001b[0mj\u001b[0m\u001b[1;33m]\u001b[0m\u001b[1;33m*\u001b[0m\u001b[0mfator\u001b[0m\u001b[1;33m\u001b[0m\u001b[0m\n",
      "\u001b[1;31mZeroDivisionError\u001b[0m: division by zero"
     ]
    }
   ],
   "source": [
    "# TESTE\n",
    "for k in range(0, N): \n",
    "    for i in range(k + 1, N): \n",
    "        fator = - A[i][k]/A[k][k]\n",
    "        for j in range(0, N):\n",
    "            A[i][j] = A[i][j] + A[k][j]*fator\n",
    "        b[i] = b[i] + b[k]*fator\n",
    "\n",
    "solucao = [0]*N\n",
    "solucao[N - 1] = b[N - 1] / A[N - 1][N - 1]\n",
    "for linha in range(N - 2, -1, -1):  \n",
    "    soma = b[linha] \n",
    "    for w in range(linha + 1, N): \n",
    "        soma = soma - A[linha][w]*solucao[w]\n",
    "    solucao[linha] = soma / A[linha][linha] "
   ]
  },
  {
   "cell_type": "markdown",
   "metadata": {},
   "source": [
    "\n",
    "\n",
    "### Condensação pivotal (partial pivoting)\n",
    "\n",
    "Existe um método para contornar esse problema chamado **condensação pivotal** (partial pivoting). A ideia é que podemos trocar duas linhas do sistema de lugar sem alterar a solução. Logo, podemos tirar os elementos 0 da diagonal da matriz trocando por outra linha sem o 0 na posição do pivo. Um jeito melhor ainda de fazer isso é colocando a linha com o **maior elemento** possível na posição do pivo (veja [aqui uma ótima explicação disso](http://www.math.iitb.ac.in/~neela/partialpivot.pdf)). \n",
    "\n",
    "O método da eliminação de Gauss com condensação pivotal é:\n",
    "\n",
    "    Para cada linha k do sistema:\n",
    "        Ache a linha de A com o maior elemento na coluna k (só precisa considerar de k para baixo)\n",
    "        Troque a linha k com a linha determinada acima (não esqueça de trocar o lado direito também)\n",
    "        pivo = A[k][k]\n",
    "        Escalonamento para zerar a coluna k (igual ao feita na eliminação convencional)\n",
    "        \n",
    "        \n",
    "Resolva o sistema linear definido acima utilizando eliminação de Gauss com condensação pivotal. Coloque a solução em uma variável chamada `solucao`."
   ]
  },
  {
   "cell_type": "code",
   "execution_count": null,
   "metadata": {
    "collapsed": false
   },
   "outputs": [],
   "source": []
  },
  {
   "cell_type": "code",
   "execution_count": null,
   "metadata": {
    "collapsed": false
   },
   "outputs": [],
   "source": []
  },
  {
   "cell_type": "code",
   "execution_count": null,
   "metadata": {
    "collapsed": true
   },
   "outputs": [],
   "source": []
  },
  {
   "cell_type": "markdown",
   "metadata": {},
   "source": [
    "### Resultado esperado\n",
    "\n",
    "Quando executada, a célula abaixo deverá imprimir `True`."
   ]
  },
  {
   "cell_type": "code",
   "execution_count": null,
   "metadata": {
    "collapsed": false
   },
   "outputs": [],
   "source": [
    "print(np.allclose(np.linalg.solve(A, b), solucao))"
   ]
  }
 ],
 "metadata": {
  "kernelspec": {
   "display_name": "Python 3",
   "language": "python",
   "name": "python3"
  },
  "language_info": {
   "codemirror_mode": {
    "name": "ipython",
    "version": 3
   },
   "file_extension": ".py",
   "mimetype": "text/x-python",
   "name": "python",
   "nbconvert_exporter": "python",
   "pygments_lexer": "ipython3",
   "version": "3.4.3"
  }
 },
 "nbformat": 4,
 "nbformat_minor": 0
}
